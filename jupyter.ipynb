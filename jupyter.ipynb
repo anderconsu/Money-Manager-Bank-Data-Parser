{
 "cells": [
  {
   "cell_type": "code",
   "execution_count": 17,
   "metadata": {},
   "outputs": [],
   "source": [
    "import pandas as pd\n",
    "from os import devnull\n",
    "import xlrd"
   ]
  },
  {
   "cell_type": "code",
   "execution_count": 18,
   "metadata": {},
   "outputs": [
    {
     "name": "stdout",
     "output_type": "stream",
     "text": [
      "['Date', 'Account', 'Category', 'Subcategory', 'Note', 'Amount', 'Income/Expense', 'Description']\n"
     ]
    }
   ],
   "source": [
    "# Step 1: Read the XLSX template file to get the column names\n",
    "template_file = 'plantilla.xlsx'\n",
    "template_df = pd.read_excel(template_file)\n",
    "template_columns = template_df.columns.tolist()\n",
    "print(template_columns)"
   ]
  },
  {
   "cell_type": "code",
   "execution_count": 19,
   "metadata": {},
   "outputs": [],
   "source": [
    "# Step 2: Read the XLS file to get the data you want to parse\n",
    "data_file = 'Files/05-2024.xls'\n",
    "# data_df = pd.read_excel(data_file)\n",
    "wb = xlrd.open_workbook(data_file, logfile=open(devnull, 'w'))\n",
    "data_df = pd.read_excel(wb, dtype=str,  skiprows=7, engine='xlrd')"
   ]
  },
  {
   "cell_type": "code",
   "execution_count": 20,
   "metadata": {},
   "outputs": [
    {
     "name": "stdout",
     "output_type": "stream",
     "text": [
      "        fecha                               concepto fecha valor importe  \\\n",
      "0  01/05/2024              AMAZON* 404-6652105-43     29/04/2024  -69.99   \n",
      "1  01/05/2024  ENVIO BIZUM pistachos                  01/05/2024   14.35   \n",
      "2  02/05/2024  PAGO CAJERO 53229502084601450          02/05/2024    -270   \n",
      "3  02/05/2024  COMPRA T.C. E.S. AGUILAR               02/05/2024   -5.99   \n",
      "4  03/05/2024  COMPRA T.C. LUPA MAGDALENA GUARDO      03/05/2024  -73.17   \n",
      "\n",
      "     saldo  \n",
      "0  2605.97  \n",
      "1  2620.32  \n",
      "2  2350.32  \n",
      "3  2344.33  \n",
      "4  2271.16  \n"
     ]
    }
   ],
   "source": [
    "# Name the columns of the data_df DataFrame with the first row of the data_df DataFrame\n",
    "data_df.columns =['fecha', 'concepto', 'fecha valor', 'importe', 'saldo']\n",
    "print(data_df.head())"
   ]
  },
  {
   "cell_type": "code",
   "execution_count": 21,
   "metadata": {},
   "outputs": [
    {
     "name": "stdout",
     "output_type": "stream",
     "text": [
      "       fecha                               concepto fecha valor importe  \\\n",
      "0 2024-05-01              AMAZON* 404-6652105-43     2024-04-29  -69.99   \n",
      "1 2024-05-01  ENVIO BIZUM pistachos                  2024-05-01   14.35   \n",
      "2 2024-05-02  PAGO CAJERO 53229502084601450          2024-05-02    -270   \n",
      "3 2024-05-02  COMPRA T.C. E.S. AGUILAR               2024-05-02   -5.99   \n",
      "4 2024-05-03  COMPRA T.C. LUPA MAGDALENA GUARDO      2024-05-03  -73.17   \n",
      "\n",
      "     saldo  \n",
      "0  2605.97  \n",
      "1  2620.32  \n",
      "2  2350.32  \n",
      "3  2344.33  \n",
      "4  2271.16  \n"
     ]
    }
   ],
   "source": [
    "## Try to convert the first column to a date\n",
    "try:\n",
    "\t# Convert fecha column with format \"%d/%m/%Y\" \n",
    "\tdata_df['fecha'] = pd.to_datetime(data_df['fecha'], format='%d/%m/%Y')\n",
    " \n",
    " # Convert fecha valor column with format \"%d/%m/%Y\"\n",
    "\tdata_df['fecha valor'] = pd.to_datetime(data_df['fecha valor'], format='%d/%m/%Y')\n",
    " \n",
    "\t# Print the first 5 rows of the DataFrame\n",
    "\tprint(data_df.head())\n",
    "\n",
    "\n",
    "except ValueError as e:\n",
    "\t# Print the error message\n",
    "\tprint(e)\n",
    "\t# Exit the program\n",
    "\texit()\n"
   ]
  },
  {
   "cell_type": "code",
   "execution_count": 27,
   "metadata": {},
   "outputs": [
    {
     "name": "stdout",
     "output_type": "stream",
     "text": [
      "       fecha                               concepto fecha valor  importe  \\\n",
      "0 2024-05-01              AMAZON* 404-6652105-43     2024-04-29   -69.99   \n",
      "1 2024-05-01  ENVIO BIZUM pistachos                  2024-05-01    14.35   \n",
      "2 2024-05-02  PAGO CAJERO 53229502084601450          2024-05-02  -270.00   \n",
      "3 2024-05-02  COMPRA T.C. E.S. AGUILAR               2024-05-02    -5.99   \n",
      "4 2024-05-03  COMPRA T.C. LUPA MAGDALENA GUARDO      2024-05-03   -73.17   \n",
      "\n",
      "     saldo  \n",
      "0  2605.97  \n",
      "1  2620.32  \n",
      "2  2350.32  \n",
      "3  2344.33  \n",
      "4  2271.16  \n"
     ]
    }
   ],
   "source": [
    "# Try to convert the importe column to a float\n",
    "try:\n",
    "    # Convert importe column to float\n",
    "    data_df['importe'] = data_df['importe'].str.replace(',', '').astype(float)\n",
    " \n",
    "    # Print the first 5 rows of the DataFrame\n",
    "    print(data_df.head())\n",
    "except ValueError as e:\n",
    "    # Print the error message\n",
    "    print(e)\n",
    "    # Exit the program\n",
    "    exit()"
   ]
  },
  {
   "cell_type": "code",
   "execution_count": 22,
   "metadata": {},
   "outputs": [],
   "source": [
    "# Get different pricing data with the same structure ['Amount', 'Note', 'Category', 'Subcategory']\n",
    "eroski_df = pd.read_excel('Pricing/eroski.xlsx')\n"
   ]
  },
  {
   "cell_type": "code",
   "execution_count": 23,
   "metadata": {},
   "outputs": [],
   "source": [
    "# Create a dictionary with the different pricing dataframes\n",
    "\n",
    "procedence_dict = {\n",
    "  'EROSKI': eroski_df,\n",
    "}"
   ]
  },
  {
   "cell_type": "code",
   "execution_count": 37,
   "metadata": {},
   "outputs": [],
   "source": [
    "\n",
    "# Deny list to avoid periodic payments already congifured in app\n",
    "deny_procedence = ['GITHUB', 'DIGITEAL', 'NOMINA']\n"
   ]
  },
  {
   "cell_type": "code",
   "execution_count": 38,
   "metadata": {},
   "outputs": [
    {
     "name": "stdout",
     "output_type": "stream",
     "text": [
      "        Date Account Category Subcategory  \\\n",
      "0 2024-05-01     K26     None        None   \n",
      "1 2024-05-01     K26     None        None   \n",
      "2 2024-05-02     K26     None        None   \n",
      "3 2024-05-02     K26     None        None   \n",
      "4 2024-05-03     K26     None        None   \n",
      "\n",
      "                                    Note  Amount Income/Expense Description  \n",
      "0              AMAZON* 404-6652105-43      69.99        Expense        None  \n",
      "1  ENVIO BIZUM pistachos                   14.35         Income        None  \n",
      "2  PAGO CAJERO 53229502084601450          270.00        Expense        None  \n",
      "3  COMPRA T.C. E.S. AGUILAR                 5.99        Expense        None  \n",
      "4  COMPRA T.C. LUPA MAGDALENA GUARDO       73.17        Expense        None  \n"
     ]
    }
   ],
   "source": [
    "# Step 3: Create a new DataFrame to store the parsed data\n",
    "parsed_data = pd.DataFrame(columns=template_columns)\n",
    "account = 'K26'\n",
    "\n",
    "# Step 4: Iterate over the rows of the data_df DataFrame\n",
    "for index, row in data_df.iterrows():\n",
    "\t# Check the importe column to find matches with the pricing data\n",
    "\tprocedence = row['concepto']\n",
    "\t\n",
    " \t# Check if one of the words in procedence is in the deny_procedence list\n",
    "\tif any(word in procedence for word in deny_procedence):\n",
    "\t\tcontinue\n",
    "\n",
    "\ttype = 'Expense' if row['importe'] < 0 else 'Income'\n",
    "\tdate = row['fecha']\n",
    "\tamount = abs(row['importe'])\n",
    "\tnote = procedence\n",
    "\tcategory = None\n",
    "\tsubcategory = None\n",
    "\n",
    "\tselected_pricing_df = None\n",
    "\n",
    "\t# Check the procedence of the row\n",
    "\tfor word in procedence_dict.keys():\n",
    "\t\tif word in procedence:\n",
    "\t\t\tselected_pricing_df = procedence_dict[word]\n",
    "\t\t\tbreak\n",
    "\t\n",
    " \n",
    " \n",
    "\tif selected_pricing_df is not None:\n",
    "\t\t# Check if the amount is in the pricing data\n",
    "\t\tif amount in selected_pricing_df['Amount'].values:\n",
    "\t\t\t# Get the row of the pricing data that matches the amount\n",
    "\t\t\tpricing_row = eroski_df[eroski_df['Amount'] == abs(amount)]\n",
    "\t\t\t# Get the note, category and subcategory of the pricing data\n",
    "\t\t\tnote = pricing_row['Note'].values[0]\n",
    "\t\t\tcategory = pricing_row['Category'].values[0]\n",
    "\t\t\tsubcategory = pricing_row['Subcategory'].values[0]\n",
    "\t\n",
    "  \t# Insert the parsed row into the parsed_data DataFrame\n",
    "\tnew_row = [date, account, category, subcategory, note, amount, type, None]\n",
    "\tparsed_data.loc[len(parsed_data)] = new_row\n",
    "\n",
    "print(parsed_data.head())\n",
    "\t\n",
    "\n",
    " \n",
    "\t\t\n",
    " "
   ]
  }
 ],
 "metadata": {
  "kernelspec": {
   "display_name": ".venv",
   "language": "python",
   "name": "python3"
  },
  "language_info": {
   "codemirror_mode": {
    "name": "ipython",
    "version": 3
   },
   "file_extension": ".py",
   "mimetype": "text/x-python",
   "name": "python",
   "nbconvert_exporter": "python",
   "pygments_lexer": "ipython3",
   "version": "3.10.12"
  }
 },
 "nbformat": 4,
 "nbformat_minor": 2
}
